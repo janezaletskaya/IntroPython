{
 "cells": [
  {
   "cell_type": "markdown",
   "metadata": {},
   "source": [
    "# Чуть-чуть математики\n",
    "\n",
    "Теперь давайте попробуем написать функцию. Например, чтобы приближённо считала синус. Для небольших $x$:\n",
    "\n",
    "$$\\sin x = x - \\frac{x^3}{3!} + \\frac{x^5}{5!} - \\frac{x^7}{7!} + \\ldots + R(x) =\n",
    "\\sum_{n=0}^N (-1)^n \\frac{x^{2n+1}}{(2n+1)!} + R(x),$$\n",
    "\n",
    "причём $R(x) \\xrightarrow[N \\rightarrow \\infty]{} 0$.\n",
    "\n",
    "Это частичная сумма т.н. ряда Тейлора:\n",
    "\n",
    "$$ f(x) = f(a)+\\sum_{k=1}^\\infty {f^{(k)} (a) \\over k!} (x - a)^k. $$"
   ]
  },
  {
   "cell_type": "code",
   "execution_count": 11,
   "metadata": {},
   "outputs": [
    {
     "name": "stdout",
     "output_type": "stream",
     "text": [
      "148.4131591025766\n",
      "148.37958007973663\n",
      "54.598150033144236\n",
      "54.59706179769672\n"
     ]
    }
   ],
   "source": [
    "import math\n",
    "\n",
    "iterations = 15\n",
    "\n",
    "def my_exp(x):\n",
    "    x_pow = 1\n",
    "    n_fact = 1\n",
    "    partial_sum = 1\n",
    "    for n in range(1, iterations):\n",
    "        x_pow *= x\n",
    "        n_fact *= n\n",
    "        partial_sum += x_pow / n_fact\n",
    "    return partial_sum\n",
    "\n",
    "\n",
    "print(math.exp(5))\n",
    "print(my_exp(5))\n",
    "print(math.exp(4))\n",
    "print(my_exp(4))"
   ]
  },
  {
   "cell_type": "markdown",
   "metadata": {},
   "source": [
    "выходит у нас немного неточно, но зато...\n",
    "\n",
    "... Зато наша функция умеет считать синус комплексного аргумента, легко достигающий пяти и более в мирное время. Мнимая единица ($i$) в Питоне обозначется, как `j`.\n",
    "\n",
    "Стандартная библиотека тоже умеет, **и поточнее**."
   ]
  },
  {
   "cell_type": "code",
   "execution_count": 5,
   "metadata": {},
   "outputs": [
    {
     "name": "stdout",
     "output_type": "stream",
     "text": [
      "\"Угол\", на котором синус достигает пяти: (1.5707963267948966+2.2924316695611777j)\n",
      "А библиотечный? (5+2.999759773043693e-16j)\n"
     ]
    }
   ],
   "source": [
    "import math\n",
    "import cmath\n",
    "import matplotlib.pyplot as plt\n",
    "import numpy as np\n",
    "\n",
    "complex_angle = cmath.asin(5)\n",
    "print('\"Угол\", на котором синус достигает пяти:', complex_angle)\n",
    "\n",
    "# print(\"Достигает ли пяти наш синус?\", my_sin(complex_angle))\n",
    "print(\"А библиотечный?\", cmath.sin(complex_angle))"
   ]
  },
  {
   "cell_type": "markdown",
   "metadata": {},
   "source": [
    "А какое и где слабое место у нашего синуса?"
   ]
  },
  {
   "cell_type": "code",
   "execution_count": 12,
   "metadata": {},
   "outputs": [
    {
     "data": {
      "image/png": "[encoded data removed]",
      "text/plain": [
       "<Figure size 432x288 with 1 Axes>"
      ]
     },
     "metadata": {},
     "output_type": "display_data"
    }
   ],
   "source": [
    "%matplotlib inline\n",
    "\n",
    "args = np.r_[-16.25:16.25:0.01]\n",
    "plt.plot(angles, np.exp(args))\n",
    "plt.plot(angles, np.vectorize(my_exp)(args))\n",
    "plt.show()"
   ]
  },
  {
   "cell_type": "markdown",
   "metadata": {},
   "source": [
    "# Задание\n",
    "\n",
    "Реализовать вычисление частичной суммы [ряда Тейлора для одной из элементарных функций](http://ru.math.wikia.com/wiki/%D0%A0%D1%8F%D0%B4_%D0%A2%D0%B5%D0%B9%D0%BB%D0%BE%D1%80%D0%B0) (кроме синуса 😸), аналогичным образом «испытать» получившиеся функции. "
   ]
  }
 ],
 "metadata": {
  "kernelspec": {
   "display_name": "Python 3",
   "language": "python",
   "name": "python3"
  },
  "language_info": {
   "codemirror_mode": {
    "name": "ipython",
    "version": 3
   },
   "file_extension": ".py",
   "mimetype": "text/x-python",
   "name": "python",
   "nbconvert_exporter": "python",
   "pygments_lexer": "ipython3",
   "version": "3.6.6"
  }
 },
 "nbformat": 4,
 "nbformat_minor": 2
}
